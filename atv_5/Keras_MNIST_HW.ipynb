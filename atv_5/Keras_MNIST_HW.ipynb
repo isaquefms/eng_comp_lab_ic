{
  "nbformat": 4,
  "nbformat_minor": 0,
  "metadata": {
    "kernelspec": {
      "display_name": "Python 3",
      "language": "python",
      "name": "python3"
    },
    "language_info": {
      "codemirror_mode": {
        "name": "ipython",
        "version": 3
      },
      "file_extension": ".py",
      "mimetype": "text/x-python",
      "name": "python",
      "nbconvert_exporter": "python",
      "pygments_lexer": "ipython3",
      "version": "3.7.1"
    },
    "colab": {
      "name": "Keras_MNIST_HW.ipynb",
      "provenance": []
    }
  },
  "cells": [
    {
      "cell_type": "markdown",
      "metadata": {
        "id": "bl_O9-pJuglt"
      },
      "source": [
        "## Handwritten Image Detection with Keras using MNIST data\n",
        "\n",
        "In this exercise we will work with image data: specifically the famous MNIST data set.  This data set contains 70,000 images of handwritten digits in grayscale (0=black, 255 = white).  The images are 28 pixels by 28 pixels for a total of 784 pixels.  This is quite small by image standards.  Also, the images are well centered and isolated.  This makes this problem solvable with standard fully connected neural nets without too much pre-work."
      ]
    },
    {
      "cell_type": "markdown",
      "metadata": {
        "id": "Uf0SbqG2ugl0"
      },
      "source": [
        "In the first part of this notebook, we will walk you through loading in the data, building a network, and training it.  Then it will be your turn to try different models and see if you can improve performance"
      ]
    },
    {
      "cell_type": "code",
      "metadata": {
        "id": "eTUbLtxvugl1"
      },
      "source": [
        "# Preliminaries\n",
        "\n",
        "from __future__ import print_function\n",
        "\n",
        "import keras\n",
        "from keras.datasets import mnist\n",
        "from keras.models import Sequential\n",
        "from keras.layers import Dense, Dropout\n",
        "from keras.optimizers import RMSprop, Adam\n",
        "from matplotlib import pyplot as plt\n",
        "\n",
        "import numpy as np\n",
        "# import matplotlib.pyplot as plt\n",
        "%matplotlib inline"
      ],
      "execution_count": 28,
      "outputs": []
    },
    {
      "cell_type": "markdown",
      "metadata": {
        "collapsed": true,
        "id": "urmTQeMPugl3"
      },
      "source": [
        "Let's explore the dataset a little bit"
      ]
    },
    {
      "cell_type": "code",
      "metadata": {
        "id": "DjkXIa0Vugl3",
        "outputId": "6f9da165-e6b9-4d04-b192-9ad16592073b",
        "colab": {
          "base_uri": "https://localhost:8080/"
        }
      },
      "source": [
        "# Load the data, shuffled and split between train and test sets\n",
        "(x_train, y_train), (x_test, y_test) = mnist.load_data()"
      ],
      "execution_count": 2,
      "outputs": [
        {
          "output_type": "stream",
          "text": [
            "Downloading data from https://storage.googleapis.com/tensorflow/tf-keras-datasets/mnist.npz\n",
            "11493376/11490434 [==============================] - 0s 0us/step\n"
          ],
          "name": "stdout"
        }
      ]
    },
    {
      "cell_type": "code",
      "metadata": {
        "id": "FYs_GNLGugl3",
        "outputId": "12dbe18d-0a63-4bbe-f7df-f2dc9d5f52ce",
        "colab": {
          "base_uri": "https://localhost:8080/"
        }
      },
      "source": [
        "x_train[0].shape"
      ],
      "execution_count": 3,
      "outputs": [
        {
          "output_type": "execute_result",
          "data": {
            "text/plain": [
              "(28, 28)"
            ]
          },
          "metadata": {
            "tags": []
          },
          "execution_count": 3
        }
      ]
    },
    {
      "cell_type": "code",
      "metadata": {
        "id": "OzhiFLcCugl5",
        "outputId": "14f30d7b-e317-4859-ead5-1ae1d9456ae9",
        "colab": {
          "base_uri": "https://localhost:8080/"
        }
      },
      "source": [
        "#Let's just look at a particular example to see what is inside\n",
        "\n",
        "x_train[333]  ## Just a 28 x 28 numpy array of ints from 0 to 255"
      ],
      "execution_count": 4,
      "outputs": [
        {
          "output_type": "execute_result",
          "data": {
            "text/plain": [
              "array([[  0,   0,   0,   0,   0,   0,   0,   0,   0,   0,   0,   0,   0,\n",
              "          0,   0,   0,   0,   0,   0,   0,   0,   0,   0,   0,   0,   0,\n",
              "          0,   0],\n",
              "       [  0,   0,   0,   0,   0,   0,   0,   0,   0,   0,   0,   0,   0,\n",
              "          0,   0,   0,   0,   0,   0,   0,   0,   0,   0,   0,   0,   0,\n",
              "          0,   0],\n",
              "       [  0,   0,   0,   0,   0,   0,   0,   0,   0,   0,   0,   0,   0,\n",
              "          0,   0,   0,   0,   0,   0,   0,   0,   0,   0,   0,   0,   0,\n",
              "          0,   0],\n",
              "       [  0,   0,   0,   0,   0,   0,   0,   0,   0,   0,   0,   0,   0,\n",
              "          0,   0,   0,   0,   0,   0,   0,   0,   0,   0,   0,   0,   0,\n",
              "          0,   0],\n",
              "       [  0,   0,   0,   0,   0,   0,   0,   0,   0,   0,   0,   0,   0,\n",
              "          0,   0,   0,   0,   0,   0,   0,   0,   0,   0,   0,   0,   0,\n",
              "          0,   0],\n",
              "       [  0,   0,   0,   0,   0,   0,   0,   0,   0,   0,   0,  87, 138,\n",
              "        170, 253, 201, 244, 212, 222, 138,  86,  22,   0,   0,   0,   0,\n",
              "          0,   0],\n",
              "       [  0,   0,   0,   0,   0,   0,   0,   0,   0,   0,  95, 253, 252,\n",
              "        252, 252, 252, 253, 252, 252, 252, 252, 245,  80,   0,   0,   0,\n",
              "          0,   0],\n",
              "       [  0,   0,   0,   0,   0,   0,   0,   0,   0,  68, 246, 205,  69,\n",
              "         69,  69,  69,  69,  69,  69,  69, 205, 253, 240,  50,   0,   0,\n",
              "          0,   0],\n",
              "       [  0,   0,   0,   0,   0,   0,   0,   0,   0, 187, 252, 218,  34,\n",
              "          0,   0,   0,   0,   0,   0,   0, 116, 253, 252,  69,   0,   0,\n",
              "          0,   0],\n",
              "       [  0,   0,   0,   0,   0,   0,   0,   0, 116, 248, 252, 253,  92,\n",
              "          0,   0,   0,   0,   0,   0,  95, 230, 253, 157,   6,   0,   0,\n",
              "          0,   0],\n",
              "       [  0,   0,   0,   0,   0,   0,   0,   0, 116, 249, 253, 189,  42,\n",
              "          0,   0,   0,   0,  36, 170, 253, 243, 158,   0,   0,   0,   0,\n",
              "          0,   0],\n",
              "       [  0,   0,   0,   0,   0,   0,   0,   0,   0, 133, 252, 245, 140,\n",
              "         34,   0,   0,  57, 219, 252, 235,  60,   0,   0,   0,   0,   0,\n",
              "          0,   0],\n",
              "       [  0,   0,   0,   0,   0,   0,   0,   0,   0,  25, 205, 253, 252,\n",
              "        234, 184, 184, 253, 240, 100,  44,   0,   0,   0,   0,   0,   0,\n",
              "          0,   0],\n",
              "       [  0,   0,   0,   0,   0,   0,   0,   0,   0,   0,  21, 161, 219,\n",
              "        252, 252, 252, 234,  37,   0,   0,   0,   0,   0,   0,   0,   0,\n",
              "          0,   0],\n",
              "       [  0,   0,   0,   0,   0,   0,   0,   0,   0,   0,   0,  11, 203,\n",
              "        252, 252, 252, 251, 135,   0,   0,   0,   0,   0,   0,   0,   0,\n",
              "          0,   0],\n",
              "       [  0,   0,   0,   0,   0,   0,   0,   0,   0,   9,  76, 255, 253,\n",
              "        205, 168, 220, 255, 253, 137,   5,   0,   0,   0,   0,   0,   0,\n",
              "          0,   0],\n",
              "       [  0,   0,   0,   0,   0,   0,   0,   0,   0, 114, 252, 249, 132,\n",
              "         25,   0,   0, 180, 252, 252,  45,   0,   0,   0,   0,   0,   0,\n",
              "          0,   0],\n",
              "       [  0,   0,   0,   0,   0,   0,   0,   0,  51, 220, 252, 199,   0,\n",
              "          0,   0,   0,  38, 186, 252, 154,   7,   0,   0,   0,   0,   0,\n",
              "          0,   0],\n",
              "       [  0,   0,   0,   0,   0,   0,   0,   0, 184, 252, 252,  21,   0,\n",
              "          0,   0,   0,   0,  67, 252, 252,  22,   0,   0,   0,   0,   0,\n",
              "          0,   0],\n",
              "       [  0,   0,   0,   0,   0,   0,   0,   0, 184, 252, 200,   0,   0,\n",
              "          0,   0,   0,   0,  47, 252, 252,  22,   0,   0,   0,   0,   0,\n",
              "          0,   0],\n",
              "       [  0,   0,   0,   0,   0,   0,   0,   0, 185, 253, 201,   0,   0,\n",
              "          0,   0,   0,   3, 118, 253, 245,  21,   0,   0,   0,   0,   0,\n",
              "          0,   0],\n",
              "       [  0,   0,   0,   0,   0,   0,   0,   0, 163, 252, 252,   0,   0,\n",
              "          0,   0,   0,  97, 252, 252,  87,   0,   0,   0,   0,   0,   0,\n",
              "          0,   0],\n",
              "       [  0,   0,   0,   0,   0,   0,   0,   0,  51, 240, 252, 123,  70,\n",
              "         70, 112, 184, 222, 252, 170,  13,   0,   0,   0,   0,   0,   0,\n",
              "          0,   0],\n",
              "       [  0,   0,   0,   0,   0,   0,   0,   0,   0, 165, 252, 253, 252,\n",
              "        252, 252, 252, 245, 139,  13,   0,   0,   0,   0,   0,   0,   0,\n",
              "          0,   0],\n",
              "       [  0,   0,   0,   0,   0,   0,   0,   0,   0,   9,  75, 253, 252,\n",
              "        221, 137, 137,  21,   0,   0,   0,   0,   0,   0,   0,   0,   0,\n",
              "          0,   0],\n",
              "       [  0,   0,   0,   0,   0,   0,   0,   0,   0,   0,   0,   0,   0,\n",
              "          0,   0,   0,   0,   0,   0,   0,   0,   0,   0,   0,   0,   0,\n",
              "          0,   0],\n",
              "       [  0,   0,   0,   0,   0,   0,   0,   0,   0,   0,   0,   0,   0,\n",
              "          0,   0,   0,   0,   0,   0,   0,   0,   0,   0,   0,   0,   0,\n",
              "          0,   0],\n",
              "       [  0,   0,   0,   0,   0,   0,   0,   0,   0,   0,   0,   0,   0,\n",
              "          0,   0,   0,   0,   0,   0,   0,   0,   0,   0,   0,   0,   0,\n",
              "          0,   0]], dtype=uint8)"
            ]
          },
          "metadata": {
            "tags": []
          },
          "execution_count": 4
        }
      ]
    },
    {
      "cell_type": "code",
      "metadata": {
        "id": "Vl8GhCLGugl5",
        "outputId": "63cb59f1-b4c5-4b55-b391-2d471c63c1c3",
        "colab": {
          "base_uri": "https://localhost:8080/"
        }
      },
      "source": [
        "# What is the corresponding label in the training set?\n",
        "y_train[333]"
      ],
      "execution_count": 5,
      "outputs": [
        {
          "output_type": "execute_result",
          "data": {
            "text/plain": [
              "8"
            ]
          },
          "metadata": {
            "tags": []
          },
          "execution_count": 5
        }
      ]
    },
    {
      "cell_type": "code",
      "metadata": {
        "id": "9hnXEongugl6",
        "outputId": "336853c0-60f1-4256-81ba-47814af50989",
        "colab": {
          "base_uri": "https://localhost:8080/",
          "height": 282
        }
      },
      "source": [
        "# Let's see what this image actually looks like\n",
        "\n",
        "plt.imshow(x_train[333], cmap='Greys_r')"
      ],
      "execution_count": 8,
      "outputs": [
        {
          "output_type": "execute_result",
          "data": {
            "text/plain": [
              "<matplotlib.image.AxesImage at 0x7f768b1f15d0>"
            ]
          },
          "metadata": {
            "tags": []
          },
          "execution_count": 8
        },
        {
          "output_type": "display_data",
          "data": {
            "image/png": "[encoded data removed]",
            "text/plain": [
              "<Figure size 432x288 with 1 Axes>"
            ]
          },
          "metadata": {
            "tags": [],
            "needs_background": "light"
          }
        }
      ]
    },
    {
      "cell_type": "code",
      "metadata": {
        "id": "NXlPuB7ougl6",
        "outputId": "514caa61-9840-4d6b-cc54-ff20b80d8bdd",
        "colab": {
          "base_uri": "https://localhost:8080/"
        }
      },
      "source": [
        "# this is the shape of the np.array x_train\n",
        "# it is 3 dimensional.\n",
        "print(x_train.shape, 'train samples')\n",
        "print(x_test.shape, 'test samples')"
      ],
      "execution_count": 9,
      "outputs": [
        {
          "output_type": "stream",
          "text": [
            "(60000, 28, 28) train samples\n",
            "(10000, 28, 28) test samples\n"
          ],
          "name": "stdout"
        }
      ]
    },
    {
      "cell_type": "code",
      "metadata": {
        "id": "CbYuUqheugl7"
      },
      "source": [
        "## For our purposes, these images are just a vector of 784 inputs, so let's convert\n",
        "x_train = x_train.reshape(len(x_train), 28*28)\n",
        "x_test = x_test.reshape(len(x_test), 28*28)\n",
        "\n",
        "## Keras works with floats, so we must cast the numbers to floats\n",
        "x_train = x_train.astype('float32')\n",
        "x_test = x_test.astype('float32')\n",
        "\n",
        "## Normalize the inputs so they are between 0 and 1\n",
        "x_train /= 255\n",
        "x_test /= 255\n"
      ],
      "execution_count": 10,
      "outputs": []
    },
    {
      "cell_type": "code",
      "metadata": {
        "id": "Usha29F3ugl7",
        "outputId": "ab1f7b58-91a4-47b7-a43d-9aa2f939b636",
        "colab": {
          "base_uri": "https://localhost:8080/"
        }
      },
      "source": [
        "# convert class vectors to binary class matrices\n",
        "num_classes = 10\n",
        "y_train = keras.utils.to_categorical(y_train, num_classes)\n",
        "y_test = keras.utils.to_categorical(y_test, num_classes)\n",
        "\n",
        "y_train[333]  # now the digit k is represented by a 1 in the kth entry (0-indexed) of the length 10 vector"
      ],
      "execution_count": 11,
      "outputs": [
        {
          "output_type": "execute_result",
          "data": {
            "text/plain": [
              "array([0., 0., 0., 0., 0., 0., 0., 0., 1., 0.], dtype=float32)"
            ]
          },
          "metadata": {
            "tags": []
          },
          "execution_count": 11
        }
      ]
    },
    {
      "cell_type": "code",
      "metadata": {
        "collapsed": true,
        "id": "f5GsMRlEugl7"
      },
      "source": [
        "# We will build a model with two hidden layers of size 512\n",
        "# Fully connected inputs at each layer\n",
        "# We will use dropout of .2 to help regularize\n",
        "model_1 = Sequential()\n",
        "model_1.add(Dense(64, activation='relu', input_shape=(784,)))\n",
        "model_1.add(Dropout(0.2))\n",
        "model_1.add(Dense(64, activation='relu'))\n",
        "model_1.add(Dropout(0.2))\n",
        "model_1.add(Dense(10, activation='softmax'))"
      ],
      "execution_count": 12,
      "outputs": []
    },
    {
      "cell_type": "code",
      "metadata": {
        "id": "1jlcecTeugl8",
        "outputId": "6a23760e-3b03-4cf5-cf89-755b0c1a6880",
        "colab": {
          "base_uri": "https://localhost:8080/"
        }
      },
      "source": [
        "## Note that this model has a LOT of parameters\n",
        "model_1.summary()"
      ],
      "execution_count": 13,
      "outputs": [
        {
          "output_type": "stream",
          "text": [
            "Model: \"sequential\"\n",
            "_________________________________________________________________\n",
            "Layer (type)                 Output Shape              Param #   \n",
            "=================================================================\n",
            "dense (Dense)                (None, 64)                50240     \n",
            "_________________________________________________________________\n",
            "dropout (Dropout)            (None, 64)                0         \n",
            "_________________________________________________________________\n",
            "dense_1 (Dense)              (None, 64)                4160      \n",
            "_________________________________________________________________\n",
            "dropout_1 (Dropout)          (None, 64)                0         \n",
            "_________________________________________________________________\n",
            "dense_2 (Dense)              (None, 10)                650       \n",
            "=================================================================\n",
            "Total params: 55,050\n",
            "Trainable params: 55,050\n",
            "Non-trainable params: 0\n",
            "_________________________________________________________________\n"
          ],
          "name": "stdout"
        }
      ]
    },
    {
      "cell_type": "code",
      "metadata": {
        "collapsed": true,
        "id": "Bygpj_Xwugl8"
      },
      "source": [
        "# Let's compile the model\n",
        "learning_rate = .001\n",
        "model_1.compile(loss='categorical_crossentropy',\n",
        "              optimizer=RMSprop(lr=learning_rate),\n",
        "              metrics=['accuracy'])\n",
        "# note that `categorical cross entropy` is the natural generalization \n",
        "# of the loss function we had in binary classification case, to multi class case"
      ],
      "execution_count": 14,
      "outputs": []
    },
    {
      "cell_type": "code",
      "metadata": {
        "id": "pLLlaehlugl8",
        "outputId": "bc2b3b19-9e45-4426-ec8d-7069ea3dea61",
        "colab": {
          "base_uri": "https://localhost:8080/"
        }
      },
      "source": [
        "# And now let's fit.\n",
        "\n",
        "batch_size = 128  # mini-batch with 128 examples\n",
        "epochs = 30\n",
        "history = model_1.fit(\n",
        "    x_train, y_train,\n",
        "    batch_size=batch_size,\n",
        "    epochs=epochs,\n",
        "    verbose=1,\n",
        "    validation_data=(x_test, y_test))"
      ],
      "execution_count": 15,
      "outputs": [
        {
          "output_type": "stream",
          "text": [
            "Epoch 1/30\n",
            "469/469 [==============================] - 2s 3ms/step - loss: 0.8008 - accuracy: 0.7551 - val_loss: 0.2047 - val_accuracy: 0.9376\n",
            "Epoch 2/30\n",
            "469/469 [==============================] - 1s 3ms/step - loss: 0.2673 - accuracy: 0.9216 - val_loss: 0.1459 - val_accuracy: 0.9537\n",
            "Epoch 3/30\n",
            "469/469 [==============================] - 1s 3ms/step - loss: 0.2091 - accuracy: 0.9387 - val_loss: 0.1247 - val_accuracy: 0.9624\n",
            "Epoch 4/30\n",
            "469/469 [==============================] - 1s 3ms/step - loss: 0.1771 - accuracy: 0.9488 - val_loss: 0.1203 - val_accuracy: 0.9638\n",
            "Epoch 5/30\n",
            "469/469 [==============================] - 1s 3ms/step - loss: 0.1594 - accuracy: 0.9532 - val_loss: 0.1041 - val_accuracy: 0.9682\n",
            "Epoch 6/30\n",
            "469/469 [==============================] - 1s 3ms/step - loss: 0.1428 - accuracy: 0.9578 - val_loss: 0.0996 - val_accuracy: 0.9707\n",
            "Epoch 7/30\n",
            "469/469 [==============================] - 1s 3ms/step - loss: 0.1320 - accuracy: 0.9611 - val_loss: 0.0959 - val_accuracy: 0.9723\n",
            "Epoch 8/30\n",
            "469/469 [==============================] - 1s 3ms/step - loss: 0.1222 - accuracy: 0.9642 - val_loss: 0.0948 - val_accuracy: 0.9717\n",
            "Epoch 9/30\n",
            "469/469 [==============================] - 1s 3ms/step - loss: 0.1228 - accuracy: 0.9633 - val_loss: 0.0912 - val_accuracy: 0.9736\n",
            "Epoch 10/30\n",
            "469/469 [==============================] - 1s 3ms/step - loss: 0.1172 - accuracy: 0.9665 - val_loss: 0.0862 - val_accuracy: 0.9754\n",
            "Epoch 11/30\n",
            "469/469 [==============================] - 1s 3ms/step - loss: 0.1083 - accuracy: 0.9685 - val_loss: 0.0891 - val_accuracy: 0.9762\n",
            "Epoch 12/30\n",
            "469/469 [==============================] - 1s 3ms/step - loss: 0.1058 - accuracy: 0.9681 - val_loss: 0.0872 - val_accuracy: 0.9757\n",
            "Epoch 13/30\n",
            "469/469 [==============================] - 1s 3ms/step - loss: 0.0996 - accuracy: 0.9705 - val_loss: 0.0952 - val_accuracy: 0.9741\n",
            "Epoch 14/30\n",
            "469/469 [==============================] - 1s 3ms/step - loss: 0.0992 - accuracy: 0.9710 - val_loss: 0.0931 - val_accuracy: 0.9766\n",
            "Epoch 15/30\n",
            "469/469 [==============================] - 1s 3ms/step - loss: 0.0993 - accuracy: 0.9703 - val_loss: 0.0938 - val_accuracy: 0.9758\n",
            "Epoch 16/30\n",
            "469/469 [==============================] - 1s 3ms/step - loss: 0.0980 - accuracy: 0.9711 - val_loss: 0.0931 - val_accuracy: 0.9765\n",
            "Epoch 17/30\n",
            "469/469 [==============================] - 1s 3ms/step - loss: 0.0907 - accuracy: 0.9730 - val_loss: 0.0979 - val_accuracy: 0.9747\n",
            "Epoch 18/30\n",
            "469/469 [==============================] - 1s 3ms/step - loss: 0.0889 - accuracy: 0.9744 - val_loss: 0.0939 - val_accuracy: 0.9768\n",
            "Epoch 19/30\n",
            "469/469 [==============================] - 1s 3ms/step - loss: 0.0868 - accuracy: 0.9741 - val_loss: 0.0924 - val_accuracy: 0.9768\n",
            "Epoch 20/30\n",
            "469/469 [==============================] - 1s 3ms/step - loss: 0.0868 - accuracy: 0.9738 - val_loss: 0.1019 - val_accuracy: 0.9766\n",
            "Epoch 21/30\n",
            "469/469 [==============================] - 1s 3ms/step - loss: 0.0794 - accuracy: 0.9766 - val_loss: 0.0926 - val_accuracy: 0.9769\n",
            "Epoch 22/30\n",
            "469/469 [==============================] - 1s 3ms/step - loss: 0.0859 - accuracy: 0.9743 - val_loss: 0.0966 - val_accuracy: 0.9761\n",
            "Epoch 23/30\n",
            "469/469 [==============================] - 1s 3ms/step - loss: 0.0860 - accuracy: 0.9747 - val_loss: 0.0965 - val_accuracy: 0.9778\n",
            "Epoch 24/30\n",
            "469/469 [==============================] - 1s 3ms/step - loss: 0.0810 - accuracy: 0.9762 - val_loss: 0.1031 - val_accuracy: 0.9758\n",
            "Epoch 25/30\n",
            "469/469 [==============================] - 1s 3ms/step - loss: 0.0832 - accuracy: 0.9756 - val_loss: 0.0980 - val_accuracy: 0.9775\n",
            "Epoch 26/30\n",
            "469/469 [==============================] - 1s 3ms/step - loss: 0.0804 - accuracy: 0.9759 - val_loss: 0.1001 - val_accuracy: 0.9776\n",
            "Epoch 27/30\n",
            "469/469 [==============================] - 1s 3ms/step - loss: 0.0812 - accuracy: 0.9762 - val_loss: 0.1055 - val_accuracy: 0.9774\n",
            "Epoch 28/30\n",
            "469/469 [==============================] - 1s 3ms/step - loss: 0.0769 - accuracy: 0.9775 - val_loss: 0.0986 - val_accuracy: 0.9754\n",
            "Epoch 29/30\n",
            "469/469 [==============================] - 1s 3ms/step - loss: 0.0783 - accuracy: 0.9769 - val_loss: 0.1053 - val_accuracy: 0.9758\n",
            "Epoch 30/30\n",
            "469/469 [==============================] - 1s 3ms/step - loss: 0.0775 - accuracy: 0.9778 - val_loss: 0.1086 - val_accuracy: 0.9758\n"
          ],
          "name": "stdout"
        }
      ]
    },
    {
      "cell_type": "code",
      "metadata": {
        "id": "zKfPsPCAugl9",
        "outputId": "a14940e5-09e2-4d0e-fed6-37ca91e9e2f7",
        "colab": {
          "base_uri": "https://localhost:8080/"
        }
      },
      "source": [
        "## We will use Keras evaluate function to evaluate performance on the test set\n",
        "\n",
        "score = model_1.evaluate(x_test, y_test, verbose=0)\n",
        "print('Test loss:', score[0])\n",
        "print('Test accuracy:', score[1])"
      ],
      "execution_count": 16,
      "outputs": [
        {
          "output_type": "stream",
          "text": [
            "Test loss: 0.1086110845208168\n",
            "Test accuracy: 0.9757999777793884\n"
          ],
          "name": "stdout"
        }
      ]
    },
    {
      "cell_type": "code",
      "metadata": {
        "id": "OFe0A7FRugl9",
        "outputId": "350e5b62-dcf2-4324-a9b3-0581f8e3f128",
        "colab": {
          "base_uri": "https://localhost:8080/",
          "height": 390
        }
      },
      "source": [
        "def plot_loss_accuracy(history):\n",
        "    fig = plt.figure(figsize=(12, 6))\n",
        "    ax = fig.add_subplot(1, 2, 1)\n",
        "    ax.plot(history.history[\"loss\"],'r-x', label=\"Train Loss\")\n",
        "    ax.plot(history.history[\"val_loss\"],'b-x', label=\"Validation Loss\")\n",
        "    ax.legend()\n",
        "    ax.set_title('cross_entropy loss')\n",
        "    ax.grid(True)\n",
        "\n",
        "\n",
        "    ax = fig.add_subplot(1, 2, 2)\n",
        "    ax.plot(history.history[\"accuracy\"],'r-x', label=\"Train Accuracy\")\n",
        "    ax.plot(history.history[\"val_accuracy\"],'b-x', label=\"Validation Accuracy\")\n",
        "    ax.legend()\n",
        "    ax.set_title('accuracy')\n",
        "    ax.grid(True)\n",
        "    \n",
        "\n",
        "plot_loss_accuracy(history)"
      ],
      "execution_count": 18,
      "outputs": [
        {
          "output_type": "display_data",
          "data": {
            "image/png": "[encoded data removed]",
            "text/plain": [
              "<Figure size 864x432 with 2 Axes>"
            ]
          },
          "metadata": {
            "tags": [],
            "needs_background": "light"
          }
        }
      ]
    },
    {
      "cell_type": "markdown",
      "metadata": {
        "id": "vaa-dVDuugl9"
      },
      "source": [
        "This is reasonably good performance, but we can do even better!  Next you will build an even bigger network and compare the performance."
      ]
    },
    {
      "cell_type": "markdown",
      "metadata": {
        "id": "Gx0sVfDnugl-"
      },
      "source": [
        "## Exercise\n",
        "### Your Turn: Build your own model\n",
        "Use the Keras \"Sequential\" functionality to build `model_2` with the following specifications:\n",
        "\n",
        "1. Two hidden layers.\n",
        "2. First hidden layer of size 400 and second of size 300\n",
        "3. Dropout of .4 at each layer\n",
        "4. How many parameters does your model have?  How does it compare with the previous model?\n",
        "4. Train this model for 20 epochs with RMSProp at a learning rate of .001 and a batch size of 128\n",
        "\n",
        "\n"
      ]
    },
    {
      "cell_type": "code",
      "metadata": {
        "collapsed": true,
        "id": "LmxA2AVTugl-",
        "outputId": "bd804468-80fb-4387-9936-4ba80078c535",
        "colab": {
          "base_uri": "https://localhost:8080/"
        }
      },
      "source": [
        "### Build your model here\n",
        "model_2 = Sequential()\n",
        "model_2.add(Dense(400, activation='relu', input_shape=(784,)))\n",
        "model_2.add(Dropout(0.4))\n",
        "model_2.add(Dense(300, activation='relu'))\n",
        "model_2.add(Dropout(0.2))\n",
        "model_2.add(Dense(10, activation='softmax'))\n",
        "model_2.summary()"
      ],
      "execution_count": 19,
      "outputs": [
        {
          "output_type": "stream",
          "text": [
            "Model: \"sequential_1\"\n",
            "_________________________________________________________________\n",
            "Layer (type)                 Output Shape              Param #   \n",
            "=================================================================\n",
            "dense_3 (Dense)              (None, 400)               314000    \n",
            "_________________________________________________________________\n",
            "dropout_2 (Dropout)          (None, 400)               0         \n",
            "_________________________________________________________________\n",
            "dense_4 (Dense)              (None, 300)               120300    \n",
            "_________________________________________________________________\n",
            "dropout_3 (Dropout)          (None, 300)               0         \n",
            "_________________________________________________________________\n",
            "dense_5 (Dense)              (None, 10)                3010      \n",
            "=================================================================\n",
            "Total params: 437,310\n",
            "Trainable params: 437,310\n",
            "Non-trainable params: 0\n",
            "_________________________________________________________________\n"
          ],
          "name": "stdout"
        }
      ]
    },
    {
      "cell_type": "code",
      "metadata": {
        "collapsed": true,
        "id": "QCkdhLmrugl-"
      },
      "source": [
        "# compilando modelo\n",
        "learning_rate = .001\n",
        "model_2.compile(loss='categorical_crossentropy',\n",
        "              optimizer=RMSprop(lr=learning_rate),\n",
        "              metrics=['accuracy'])"
      ],
      "execution_count": 32,
      "outputs": []
    },
    {
      "cell_type": "code",
      "metadata": {
        "collapsed": true,
        "id": "NJRy5dW_ugl-",
        "outputId": "507249d6-bf65-4a8c-9f8f-9065daab0bd1",
        "colab": {
          "base_uri": "https://localhost:8080/"
        }
      },
      "source": [
        "batch_size = 128\n",
        "epochs = 30\n",
        "history = model_2.fit(\n",
        "    x_train, y_train,\n",
        "    batch_size=batch_size,\n",
        "    epochs=epochs,\n",
        "    verbose=1,\n",
        "    validation_data=(x_test, y_test))"
      ],
      "execution_count": 33,
      "outputs": [
        {
          "output_type": "stream",
          "text": [
            "Epoch 1/30\n",
            "469/469 [==============================] - 5s 9ms/step - loss: 0.0274 - accuracy: 0.9941 - val_loss: 0.1619 - val_accuracy: 0.9857\n",
            "Epoch 2/30\n",
            "469/469 [==============================] - 4s 9ms/step - loss: 0.0250 - accuracy: 0.9947 - val_loss: 0.1635 - val_accuracy: 0.9857\n",
            "Epoch 3/30\n",
            "469/469 [==============================] - 4s 9ms/step - loss: 0.0245 - accuracy: 0.9949 - val_loss: 0.1957 - val_accuracy: 0.9858\n",
            "Epoch 4/30\n",
            "469/469 [==============================] - 4s 9ms/step - loss: 0.0229 - accuracy: 0.9954 - val_loss: 0.2094 - val_accuracy: 0.9848\n",
            "Epoch 5/30\n",
            "469/469 [==============================] - 4s 9ms/step - loss: 0.0265 - accuracy: 0.9956 - val_loss: 0.2036 - val_accuracy: 0.9858\n",
            "Epoch 6/30\n",
            "469/469 [==============================] - 4s 9ms/step - loss: 0.0294 - accuracy: 0.9952 - val_loss: 0.2172 - val_accuracy: 0.9853\n",
            "Epoch 7/30\n",
            "469/469 [==============================] - 4s 9ms/step - loss: 0.0212 - accuracy: 0.9961 - val_loss: 0.2353 - val_accuracy: 0.9848\n",
            "Epoch 8/30\n",
            "469/469 [==============================] - 4s 9ms/step - loss: 0.0264 - accuracy: 0.9959 - val_loss: 0.2120 - val_accuracy: 0.9857\n",
            "Epoch 9/30\n",
            "469/469 [==============================] - 4s 9ms/step - loss: 0.0237 - accuracy: 0.9959 - val_loss: 0.2150 - val_accuracy: 0.9848\n",
            "Epoch 10/30\n",
            "469/469 [==============================] - 4s 9ms/step - loss: 0.0218 - accuracy: 0.9965 - val_loss: 0.2203 - val_accuracy: 0.9850\n",
            "Epoch 11/30\n",
            "469/469 [==============================] - 4s 9ms/step - loss: 0.0272 - accuracy: 0.9954 - val_loss: 0.2513 - val_accuracy: 0.9855\n",
            "Epoch 12/30\n",
            "469/469 [==============================] - 4s 9ms/step - loss: 0.0260 - accuracy: 0.9961 - val_loss: 0.2391 - val_accuracy: 0.9854\n",
            "Epoch 13/30\n",
            "469/469 [==============================] - 4s 9ms/step - loss: 0.0215 - accuracy: 0.9963 - val_loss: 0.2626 - val_accuracy: 0.9848\n",
            "Epoch 14/30\n",
            "469/469 [==============================] - 4s 9ms/step - loss: 0.0190 - accuracy: 0.9962 - val_loss: 0.2696 - val_accuracy: 0.9855\n",
            "Epoch 15/30\n",
            "469/469 [==============================] - 4s 9ms/step - loss: 0.0283 - accuracy: 0.9960 - val_loss: 0.2667 - val_accuracy: 0.9851\n",
            "Epoch 16/30\n",
            "469/469 [==============================] - 4s 9ms/step - loss: 0.0240 - accuracy: 0.9960 - val_loss: 0.2821 - val_accuracy: 0.9853\n",
            "Epoch 17/30\n",
            "469/469 [==============================] - 4s 9ms/step - loss: 0.0286 - accuracy: 0.9960 - val_loss: 0.2824 - val_accuracy: 0.9850\n",
            "Epoch 18/30\n",
            "469/469 [==============================] - 4s 9ms/step - loss: 0.0228 - accuracy: 0.9961 - val_loss: 0.2888 - val_accuracy: 0.9841\n",
            "Epoch 19/30\n",
            "469/469 [==============================] - 4s 9ms/step - loss: 0.0257 - accuracy: 0.9963 - val_loss: 0.2844 - val_accuracy: 0.9853\n",
            "Epoch 20/30\n",
            "469/469 [==============================] - 4s 9ms/step - loss: 0.0342 - accuracy: 0.9952 - val_loss: 0.2680 - val_accuracy: 0.9853\n",
            "Epoch 21/30\n",
            "469/469 [==============================] - 4s 9ms/step - loss: 0.0250 - accuracy: 0.9961 - val_loss: 0.3060 - val_accuracy: 0.9840\n",
            "Epoch 22/30\n",
            "469/469 [==============================] - 4s 9ms/step - loss: 0.0258 - accuracy: 0.9962 - val_loss: 0.2782 - val_accuracy: 0.9850\n",
            "Epoch 23/30\n",
            "469/469 [==============================] - 4s 9ms/step - loss: 0.0224 - accuracy: 0.9959 - val_loss: 0.2977 - val_accuracy: 0.9848\n",
            "Epoch 24/30\n",
            "469/469 [==============================] - 4s 9ms/step - loss: 0.0265 - accuracy: 0.9960 - val_loss: 0.3077 - val_accuracy: 0.9850\n",
            "Epoch 25/30\n",
            "469/469 [==============================] - 4s 9ms/step - loss: 0.0288 - accuracy: 0.9960 - val_loss: 0.3128 - val_accuracy: 0.9854\n",
            "Epoch 26/30\n",
            "469/469 [==============================] - 4s 9ms/step - loss: 0.0356 - accuracy: 0.9952 - val_loss: 0.2942 - val_accuracy: 0.9856\n",
            "Epoch 27/30\n",
            "469/469 [==============================] - 4s 9ms/step - loss: 0.0245 - accuracy: 0.9963 - val_loss: 0.2948 - val_accuracy: 0.9854\n",
            "Epoch 28/30\n",
            "469/469 [==============================] - 4s 9ms/step - loss: 0.0192 - accuracy: 0.9966 - val_loss: 0.2803 - val_accuracy: 0.9860\n",
            "Epoch 29/30\n",
            "469/469 [==============================] - 4s 9ms/step - loss: 0.0310 - accuracy: 0.9960 - val_loss: 0.2958 - val_accuracy: 0.9861\n",
            "Epoch 30/30\n",
            "469/469 [==============================] - 4s 9ms/step - loss: 0.0302 - accuracy: 0.9961 - val_loss: 0.2838 - val_accuracy: 0.9853\n"
          ],
          "name": "stdout"
        }
      ]
    },
    {
      "cell_type": "code",
      "metadata": {
        "id": "55OelI2o0b74",
        "outputId": "36c16d4e-01ae-43df-af64-e8b07fca1684",
        "colab": {
          "base_uri": "https://localhost:8080/",
          "height": 424
        }
      },
      "source": [
        "score = model_2.evaluate(x_test, y_test, verbose=0)\n",
        "print('Test loss:', score[0])\n",
        "print('Test accuracy:', score[1])\n",
        "plot_loss_accuracy(history)"
      ],
      "execution_count": 34,
      "outputs": [
        {
          "output_type": "stream",
          "text": [
            "Test loss: 0.28376680612564087\n",
            "Test accuracy: 0.9853000044822693\n"
          ],
          "name": "stdout"
        },
        {
          "output_type": "display_data",
          "data": {
            "image/png": "[encoded data removed]",
            "text/plain": [
              "<Figure size 864x432 with 2 Axes>"
            ]
          },
          "metadata": {
            "tags": [],
            "needs_background": "light"
          }
        }
      ]
    },
    {
      "cell_type": "markdown",
      "metadata": {
        "collapsed": true,
        "id": "-rsYEfZhugl-"
      },
      "source": [
        "## Think about the following questions\n",
        "\n",
        "1) How do model_1 and model_2 compare? Which do you prefer? If you were going to put one into production, which would you choose and why?\n",
        "\n",
        "2) Compare the trajectories of the loss function on the training set and test set for each model? How do they compare? What does that suggest about each model? Do the same for accuracy? Which do you think is more meaningful, the loss or the accuracy?\n",
        "\n",
        "3) Suggest an improvement to one of the models (changing structure, learning rate, number of epochs, etc.) that you think will result in a better model. Try it out below? Did it improve the performance?"
      ]
    },
    {
      "cell_type": "code",
      "metadata": {
        "collapsed": true,
        "id": "zBPjiEBCugl_"
      },
      "source": [
        ""
      ],
      "execution_count": null,
      "outputs": []
    }
  ]
}